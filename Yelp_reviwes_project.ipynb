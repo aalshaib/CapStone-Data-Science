{
 "cells": [
  {
   "cell_type": "code",
   "execution_count": null,
   "metadata": {},
   "outputs": [],
   "source": []
  },
  {
   "cell_type": "code",
   "execution_count": 113,
   "metadata": {},
   "outputs": [],
   "source": [
    "#import the needed libraries\n",
    "import pandas as pd\n",
    "import numpy as np\n",
    "import sys\n",
    "import csv\n",
    "from datetime import datetime\n",
    "from sklearn.metrics import confusion_matrix, accuracy_score\n",
    "from sklearn.feature_extraction.text import TfidfVectorizer\n",
    "from sklearn.model_selection import train_test_split\n",
    "from sklearn.svm import LinearSVC\n",
    "from sklearn.ensemble import RandomForestClassifier\n",
    "from collections import Counter\n"
   ]
  },
  {
   "cell_type": "code",
   "execution_count": 114,
   "metadata": {},
   "outputs": [],
   "source": [
    "#read text column and store it to text\n",
    "#read stars column and store it to star\n",
    "\n",
    "text = pd.read_csv('yelp.csv', usecols=['text'])\n",
    "star = pd.read_csv('yelp.csv', usecols=['stars'])"
   ]
  },
  {
   "cell_type": "code",
   "execution_count": 115,
   "metadata": {},
   "outputs": [
    {
     "data": {
      "text/html": [
       "<div>\n",
       "<style scoped>\n",
       "    .dataframe tbody tr th:only-of-type {\n",
       "        vertical-align: middle;\n",
       "    }\n",
       "\n",
       "    .dataframe tbody tr th {\n",
       "        vertical-align: top;\n",
       "    }\n",
       "\n",
       "    .dataframe thead th {\n",
       "        text-align: right;\n",
       "    }\n",
       "</style>\n",
       "<table border=\"1\" class=\"dataframe\">\n",
       "  <thead>\n",
       "    <tr style=\"text-align: right;\">\n",
       "      <th></th>\n",
       "      <th>text</th>\n",
       "      <th>stars</th>\n",
       "    </tr>\n",
       "  </thead>\n",
       "  <tbody>\n",
       "    <tr>\n",
       "      <th>0</th>\n",
       "      <td>My wife took me here on my birthday for breakf...</td>\n",
       "      <td>5</td>\n",
       "    </tr>\n",
       "    <tr>\n",
       "      <th>1</th>\n",
       "      <td>I have no idea why some people give bad review...</td>\n",
       "      <td>5</td>\n",
       "    </tr>\n",
       "    <tr>\n",
       "      <th>2</th>\n",
       "      <td>love the gyro plate. Rice is so good and I als...</td>\n",
       "      <td>4</td>\n",
       "    </tr>\n",
       "    <tr>\n",
       "      <th>3</th>\n",
       "      <td>Rosie, Dakota, and I LOVE Chaparral Dog Park!!...</td>\n",
       "      <td>5</td>\n",
       "    </tr>\n",
       "    <tr>\n",
       "      <th>4</th>\n",
       "      <td>General Manager Scott Petello is a good egg!!!...</td>\n",
       "      <td>5</td>\n",
       "    </tr>\n",
       "    <tr>\n",
       "      <th>5</th>\n",
       "      <td>Quiessence is, simply put, beautiful.  Full wi...</td>\n",
       "      <td>4</td>\n",
       "    </tr>\n",
       "    <tr>\n",
       "      <th>6</th>\n",
       "      <td>Drop what you're doing and drive here. After I...</td>\n",
       "      <td>5</td>\n",
       "    </tr>\n",
       "    <tr>\n",
       "      <th>7</th>\n",
       "      <td>Luckily, I didn't have to travel far to make m...</td>\n",
       "      <td>4</td>\n",
       "    </tr>\n",
       "    <tr>\n",
       "      <th>8</th>\n",
       "      <td>Definitely come for Happy hour! Prices are ama...</td>\n",
       "      <td>4</td>\n",
       "    </tr>\n",
       "    <tr>\n",
       "      <th>9</th>\n",
       "      <td>Nobuo shows his unique talents with everything...</td>\n",
       "      <td>5</td>\n",
       "    </tr>\n",
       "    <tr>\n",
       "      <th>10</th>\n",
       "      <td>The oldish man who owns the store is as sweet ...</td>\n",
       "      <td>5</td>\n",
       "    </tr>\n",
       "    <tr>\n",
       "      <th>11</th>\n",
       "      <td>Wonderful Vietnamese sandwich shoppe. Their ba...</td>\n",
       "      <td>5</td>\n",
       "    </tr>\n",
       "    <tr>\n",
       "      <th>12</th>\n",
       "      <td>They have a limited time thing going on right ...</td>\n",
       "      <td>5</td>\n",
       "    </tr>\n",
       "    <tr>\n",
       "      <th>13</th>\n",
       "      <td>Good tattoo shop. Clean space, multiple artist...</td>\n",
       "      <td>4</td>\n",
       "    </tr>\n",
       "    <tr>\n",
       "      <th>14</th>\n",
       "      <td>I'm 2 weeks new to Phoenix. I looked up Irish ...</td>\n",
       "      <td>4</td>\n",
       "    </tr>\n",
       "    <tr>\n",
       "      <th>15</th>\n",
       "      <td>Was it worth the 21$ for a salad and small piz...</td>\n",
       "      <td>2</td>\n",
       "    </tr>\n",
       "    <tr>\n",
       "      <th>16</th>\n",
       "      <td>We went here on a Saturday afternoon and this ...</td>\n",
       "      <td>3</td>\n",
       "    </tr>\n",
       "    <tr>\n",
       "      <th>17</th>\n",
       "      <td>okay this is the best place EVER! i grew up sh...</td>\n",
       "      <td>5</td>\n",
       "    </tr>\n",
       "    <tr>\n",
       "      <th>18</th>\n",
       "      <td>I met a friend for lunch yesterday. \\n\\nLoved ...</td>\n",
       "      <td>3</td>\n",
       "    </tr>\n",
       "    <tr>\n",
       "      <th>19</th>\n",
       "      <td>They've gotten better and better for me in the...</td>\n",
       "      <td>4</td>\n",
       "    </tr>\n",
       "    <tr>\n",
       "      <th>20</th>\n",
       "      <td>DVAP....\\n\\nYou have to go at least once in yo...</td>\n",
       "      <td>3</td>\n",
       "    </tr>\n",
       "    <tr>\n",
       "      <th>21</th>\n",
       "      <td>This place shouldn't even be reviewed - becaus...</td>\n",
       "      <td>5</td>\n",
       "    </tr>\n",
       "    <tr>\n",
       "      <th>22</th>\n",
       "      <td>first time my friend and I went there... it wa...</td>\n",
       "      <td>5</td>\n",
       "    </tr>\n",
       "    <tr>\n",
       "      <th>23</th>\n",
       "      <td>U can go there n check the car out. If u wanna...</td>\n",
       "      <td>1</td>\n",
       "    </tr>\n",
       "    <tr>\n",
       "      <th>24</th>\n",
       "      <td>I love this place! I have been coming here for...</td>\n",
       "      <td>5</td>\n",
       "    </tr>\n",
       "    <tr>\n",
       "      <th>25</th>\n",
       "      <td>This place is great.  A nice little ole' fashi...</td>\n",
       "      <td>4</td>\n",
       "    </tr>\n",
       "    <tr>\n",
       "      <th>26</th>\n",
       "      <td>I love love LOVE this place. My boss (who is i...</td>\n",
       "      <td>5</td>\n",
       "    </tr>\n",
       "    <tr>\n",
       "      <th>27</th>\n",
       "      <td>Not that my review will mean much given the mo...</td>\n",
       "      <td>4</td>\n",
       "    </tr>\n",
       "    <tr>\n",
       "      <th>28</th>\n",
       "      <td>Came here for breakfast yesterday, it had been...</td>\n",
       "      <td>4</td>\n",
       "    </tr>\n",
       "    <tr>\n",
       "      <th>29</th>\n",
       "      <td>Always reliably good.  Great beer selection as...</td>\n",
       "      <td>4</td>\n",
       "    </tr>\n",
       "    <tr>\n",
       "      <th>...</th>\n",
       "      <td>...</td>\n",
       "      <td>...</td>\n",
       "    </tr>\n",
       "    <tr>\n",
       "      <th>9970</th>\n",
       "      <td>This place is super cute lunch joint.  I had t...</td>\n",
       "      <td>5</td>\n",
       "    </tr>\n",
       "    <tr>\n",
       "      <th>9971</th>\n",
       "      <td>The staff is great, the food is great, even th...</td>\n",
       "      <td>5</td>\n",
       "    </tr>\n",
       "    <tr>\n",
       "      <th>9972</th>\n",
       "      <td>Yay, even though I miss living in Coronado I a...</td>\n",
       "      <td>4</td>\n",
       "    </tr>\n",
       "    <tr>\n",
       "      <th>9973</th>\n",
       "      <td>Wow!  Went on a Sunday around 11am - busy but ...</td>\n",
       "      <td>5</td>\n",
       "    </tr>\n",
       "    <tr>\n",
       "      <th>9974</th>\n",
       "      <td>If Cowboy Ciao is the best restaurant in Scott...</td>\n",
       "      <td>2</td>\n",
       "    </tr>\n",
       "    <tr>\n",
       "      <th>9975</th>\n",
       "      <td>When I lived in Phoenix, I was a regular at Fe...</td>\n",
       "      <td>5</td>\n",
       "    </tr>\n",
       "    <tr>\n",
       "      <th>9976</th>\n",
       "      <td>I was looking for chile rellenos and this plac...</td>\n",
       "      <td>3</td>\n",
       "    </tr>\n",
       "    <tr>\n",
       "      <th>9977</th>\n",
       "      <td>Why did I wait so long to try this neighborhoo...</td>\n",
       "      <td>5</td>\n",
       "    </tr>\n",
       "    <tr>\n",
       "      <th>9978</th>\n",
       "      <td>This is the place for a fabulos breakfast!! I ...</td>\n",
       "      <td>5</td>\n",
       "    </tr>\n",
       "    <tr>\n",
       "      <th>9979</th>\n",
       "      <td>Highly recommend. This is my second time here ...</td>\n",
       "      <td>5</td>\n",
       "    </tr>\n",
       "    <tr>\n",
       "      <th>9980</th>\n",
       "      <td>5 stars for the great $5 happy hour specials. ...</td>\n",
       "      <td>5</td>\n",
       "    </tr>\n",
       "    <tr>\n",
       "      <th>9981</th>\n",
       "      <td>We brought the entire family to Giuseppe's las...</td>\n",
       "      <td>5</td>\n",
       "    </tr>\n",
       "    <tr>\n",
       "      <th>9982</th>\n",
       "      <td>Best corned beef sandwich I've had anywhere at...</td>\n",
       "      <td>4</td>\n",
       "    </tr>\n",
       "    <tr>\n",
       "      <th>9983</th>\n",
       "      <td>3.5 stars. \\n\\nWe decided to check this place ...</td>\n",
       "      <td>3</td>\n",
       "    </tr>\n",
       "    <tr>\n",
       "      <th>9984</th>\n",
       "      <td>Went last night to Whore Foods to get basics t...</td>\n",
       "      <td>1</td>\n",
       "    </tr>\n",
       "    <tr>\n",
       "      <th>9985</th>\n",
       "      <td>Awesome food! Little pricey but delicious. Lov...</td>\n",
       "      <td>4</td>\n",
       "    </tr>\n",
       "    <tr>\n",
       "      <th>9986</th>\n",
       "      <td>I came here in December and look forward to my...</td>\n",
       "      <td>4</td>\n",
       "    </tr>\n",
       "    <tr>\n",
       "      <th>9987</th>\n",
       "      <td>The food is delicious.  The service:  discrimi...</td>\n",
       "      <td>1</td>\n",
       "    </tr>\n",
       "    <tr>\n",
       "      <th>9988</th>\n",
       "      <td>For our first time we had a great time! Our se...</td>\n",
       "      <td>4</td>\n",
       "    </tr>\n",
       "    <tr>\n",
       "      <th>9989</th>\n",
       "      <td>Great food and service! Country food at its best!</td>\n",
       "      <td>5</td>\n",
       "    </tr>\n",
       "    <tr>\n",
       "      <th>9990</th>\n",
       "      <td>Yes I do rock the hipster joints.  I dig this ...</td>\n",
       "      <td>5</td>\n",
       "    </tr>\n",
       "    <tr>\n",
       "      <th>9991</th>\n",
       "      <td>Only 4 stars? \\n\\n(A few notes: The folks that...</td>\n",
       "      <td>5</td>\n",
       "    </tr>\n",
       "    <tr>\n",
       "      <th>9992</th>\n",
       "      <td>I'm not normally one to jump at reviewing a ch...</td>\n",
       "      <td>5</td>\n",
       "    </tr>\n",
       "    <tr>\n",
       "      <th>9993</th>\n",
       "      <td>Judging by some of the reviews, maybe I went o...</td>\n",
       "      <td>4</td>\n",
       "    </tr>\n",
       "    <tr>\n",
       "      <th>9994</th>\n",
       "      <td>Let's see...what is there NOT to like about Su...</td>\n",
       "      <td>5</td>\n",
       "    </tr>\n",
       "    <tr>\n",
       "      <th>9995</th>\n",
       "      <td>First visit...Had lunch here today - used my G...</td>\n",
       "      <td>3</td>\n",
       "    </tr>\n",
       "    <tr>\n",
       "      <th>9996</th>\n",
       "      <td>Should be called house of deliciousness!\\n\\nI ...</td>\n",
       "      <td>4</td>\n",
       "    </tr>\n",
       "    <tr>\n",
       "      <th>9997</th>\n",
       "      <td>I recently visited Olive and Ivy for business ...</td>\n",
       "      <td>4</td>\n",
       "    </tr>\n",
       "    <tr>\n",
       "      <th>9998</th>\n",
       "      <td>My nephew just moved to Scottsdale recently so...</td>\n",
       "      <td>2</td>\n",
       "    </tr>\n",
       "    <tr>\n",
       "      <th>9999</th>\n",
       "      <td>4-5 locations.. all 4.5 star average.. I think...</td>\n",
       "      <td>5</td>\n",
       "    </tr>\n",
       "  </tbody>\n",
       "</table>\n",
       "<p>10000 rows × 2 columns</p>\n",
       "</div>"
      ],
      "text/plain": [
       "                                                   text  stars\n",
       "0     My wife took me here on my birthday for breakf...      5\n",
       "1     I have no idea why some people give bad review...      5\n",
       "2     love the gyro plate. Rice is so good and I als...      4\n",
       "3     Rosie, Dakota, and I LOVE Chaparral Dog Park!!...      5\n",
       "4     General Manager Scott Petello is a good egg!!!...      5\n",
       "5     Quiessence is, simply put, beautiful.  Full wi...      4\n",
       "6     Drop what you're doing and drive here. After I...      5\n",
       "7     Luckily, I didn't have to travel far to make m...      4\n",
       "8     Definitely come for Happy hour! Prices are ama...      4\n",
       "9     Nobuo shows his unique talents with everything...      5\n",
       "10    The oldish man who owns the store is as sweet ...      5\n",
       "11    Wonderful Vietnamese sandwich shoppe. Their ba...      5\n",
       "12    They have a limited time thing going on right ...      5\n",
       "13    Good tattoo shop. Clean space, multiple artist...      4\n",
       "14    I'm 2 weeks new to Phoenix. I looked up Irish ...      4\n",
       "15    Was it worth the 21$ for a salad and small piz...      2\n",
       "16    We went here on a Saturday afternoon and this ...      3\n",
       "17    okay this is the best place EVER! i grew up sh...      5\n",
       "18    I met a friend for lunch yesterday. \\n\\nLoved ...      3\n",
       "19    They've gotten better and better for me in the...      4\n",
       "20    DVAP....\\n\\nYou have to go at least once in yo...      3\n",
       "21    This place shouldn't even be reviewed - becaus...      5\n",
       "22    first time my friend and I went there... it wa...      5\n",
       "23    U can go there n check the car out. If u wanna...      1\n",
       "24    I love this place! I have been coming here for...      5\n",
       "25    This place is great.  A nice little ole' fashi...      4\n",
       "26    I love love LOVE this place. My boss (who is i...      5\n",
       "27    Not that my review will mean much given the mo...      4\n",
       "28    Came here for breakfast yesterday, it had been...      4\n",
       "29    Always reliably good.  Great beer selection as...      4\n",
       "...                                                 ...    ...\n",
       "9970  This place is super cute lunch joint.  I had t...      5\n",
       "9971  The staff is great, the food is great, even th...      5\n",
       "9972  Yay, even though I miss living in Coronado I a...      4\n",
       "9973  Wow!  Went on a Sunday around 11am - busy but ...      5\n",
       "9974  If Cowboy Ciao is the best restaurant in Scott...      2\n",
       "9975  When I lived in Phoenix, I was a regular at Fe...      5\n",
       "9976  I was looking for chile rellenos and this plac...      3\n",
       "9977  Why did I wait so long to try this neighborhoo...      5\n",
       "9978  This is the place for a fabulos breakfast!! I ...      5\n",
       "9979  Highly recommend. This is my second time here ...      5\n",
       "9980  5 stars for the great $5 happy hour specials. ...      5\n",
       "9981  We brought the entire family to Giuseppe's las...      5\n",
       "9982  Best corned beef sandwich I've had anywhere at...      4\n",
       "9983  3.5 stars. \\n\\nWe decided to check this place ...      3\n",
       "9984  Went last night to Whore Foods to get basics t...      1\n",
       "9985  Awesome food! Little pricey but delicious. Lov...      4\n",
       "9986  I came here in December and look forward to my...      4\n",
       "9987  The food is delicious.  The service:  discrimi...      1\n",
       "9988  For our first time we had a great time! Our se...      4\n",
       "9989  Great food and service! Country food at its best!      5\n",
       "9990  Yes I do rock the hipster joints.  I dig this ...      5\n",
       "9991  Only 4 stars? \\n\\n(A few notes: The folks that...      5\n",
       "9992  I'm not normally one to jump at reviewing a ch...      5\n",
       "9993  Judging by some of the reviews, maybe I went o...      4\n",
       "9994  Let's see...what is there NOT to like about Su...      5\n",
       "9995  First visit...Had lunch here today - used my G...      3\n",
       "9996  Should be called house of deliciousness!\\n\\nI ...      4\n",
       "9997  I recently visited Olive and Ivy for business ...      4\n",
       "9998  My nephew just moved to Scottsdale recently so...      2\n",
       "9999  4-5 locations.. all 4.5 star average.. I think...      5\n",
       "\n",
       "[10000 rows x 2 columns]"
      ]
     },
     "metadata": {},
     "output_type": "display_data"
    }
   ],
   "source": [
    "# exploring the two columns\n",
    "display(pd.concat([text, star], axis = 1))"
   ]
  },
  {
   "cell_type": "code",
   "execution_count": 116,
   "metadata": {},
   "outputs": [
    {
     "data": {
      "text/plain": [
       "text    0\n",
       "dtype: int64"
      ]
     },
     "metadata": {},
     "output_type": "display_data"
    },
    {
     "data": {
      "text/plain": [
       "stars    0\n",
       "dtype: int64"
      ]
     },
     "metadata": {},
     "output_type": "display_data"
    }
   ],
   "source": [
    "#check if there is any null values to fix them\n",
    "\n",
    "display(text.isnull().sum(), star.isnull().sum())"
   ]
  },
  {
   "cell_type": "code",
   "execution_count": 117,
   "metadata": {},
   "outputs": [],
   "source": [
    "# need to store the dataset to a list to ease the processing\n",
    "texts=[]\n",
    "stars=[]\n",
    "\n",
    "for i in range(len(text)):\n",
    "    texts.append(text['text'][i])\n",
    "\n",
    "for i in range(len(star)):\n",
    "    stars.append(star['stars'][i])\n",
    "\n",
    "\n",
    "    "
   ]
  },
  {
   "cell_type": "code",
   "execution_count": 118,
   "metadata": {},
   "outputs": [
    {
     "data": {
      "text/plain": [
       "10000"
      ]
     },
     "metadata": {},
     "output_type": "display_data"
    }
   ],
   "source": [
    "#check if the list is empty or not\n",
    "display(len(texts))"
   ]
  },
  {
   "cell_type": "code",
   "execution_count": 119,
   "metadata": {},
   "outputs": [
    {
     "data": {
      "text/plain": [
       "10000"
      ]
     },
     "metadata": {},
     "output_type": "display_data"
    }
   ],
   "source": [
    "display(len(stars))"
   ]
  },
  {
   "cell_type": "code",
   "execution_count": 120,
   "metadata": {},
   "outputs": [],
   "source": [
    "# in order to avoid any bais in rating reviews system we need to train the dataset in a balanced data\n",
    "\n",
    "def balance_dataset(x,y):\n",
    "    freq = Counter(y)\n",
    "    \n",
    "    # the least rating will be the max number we need for the other ratings\n",
    "    \n",
    "    max = freq.most_common()[-1][1]\n",
    "    \n",
    "    added_num = {count: 0 for count in freq.keys()}\n",
    "    \n",
    "    new_y=[]\n",
    "    new_x=[]\n",
    "    \n",
    "    for i, yy in enumerate(y):\n",
    "        if added_num[yy] < max:\n",
    "            new_y.append(yy)\n",
    "            new_x.append(x[i])\n",
    "            added_num[yy]+=1\n",
    "    \n",
    "    return new_x, new_y"
   ]
  },
  {
   "cell_type": "code",
   "execution_count": 121,
   "metadata": {},
   "outputs": [
    {
     "data": {
      "text/plain": [
       "Counter({1: 749, 2: 927, 3: 1461, 4: 3526, 5: 3337})"
      ]
     },
     "metadata": {},
     "output_type": "display_data"
    }
   ],
   "source": [
    "# show the count of each star \n",
    "display(Counter(stars))\n"
   ]
  },
  {
   "cell_type": "code",
   "execution_count": 122,
   "metadata": {},
   "outputs": [],
   "source": [
    "# as we can see above the dataset are not balanced:\n",
    "\n",
    "# we have varies number of rating stars. the majority were rated as 4 or 5 stars.\n",
    "\n",
    "# we need to balance the data, so our model will not be bias.\n",
    "\n",
    "# the goal is to see what star rating were scoring the least. in our case, 1 has the least number which is 749\n",
    "\n",
    "# so, we have to unify the number of all the star rating "
   ]
  },
  {
   "cell_type": "code",
   "execution_count": 123,
   "metadata": {},
   "outputs": [],
   "source": [
    "balanced_x, balanced_y = balance_dataset(texts, stars)"
   ]
  },
  {
   "cell_type": "code",
   "execution_count": 124,
   "metadata": {},
   "outputs": [
    {
     "data": {
      "text/plain": [
       "Counter({1: 749, 2: 749, 3: 749, 4: 749, 5: 749})"
      ]
     },
     "metadata": {},
     "output_type": "display_data"
    }
   ],
   "source": [
    "# display the count of each star after it has been balanced\n",
    "display(Counter(balanced_y))\n"
   ]
  },
  {
   "cell_type": "code",
   "execution_count": 125,
   "metadata": {},
   "outputs": [],
   "source": [
    "# vectorize the texts by usig n-grams then calculate the TF-IDF\n",
    "n=3\n",
    "\n",
    "vectorizer = TfidfVectorizer(ngram_range=(1, n))\n",
    "\n",
    "# fit the vectorizer\n",
    "\n",
    "vectors = vectorizer.fit_transform(balanced_x)"
   ]
  },
  {
   "cell_type": "code",
   "execution_count": 126,
   "metadata": {},
   "outputs": [
    {
     "data": {
      "text/plain": [
       "<3745x601306 sparse matrix of type '<class 'numpy.float64'>'\n",
       "\twith 1272034 stored elements in Compressed Sparse Row format>"
      ]
     },
     "metadata": {},
     "output_type": "display_data"
    }
   ],
   "source": [
    "display(vectors)"
   ]
  },
  {
   "cell_type": "code",
   "execution_count": 174,
   "metadata": {},
   "outputs": [],
   "source": [
    "#split the dataset for traning\n",
    "X_train, X_test, y_train, y_test = train_test_split(vectors, balanced_y, test_size=0.2, random_state=60)"
   ]
  },
  {
   "cell_type": "code",
   "execution_count": 175,
   "metadata": {},
   "outputs": [
    {
     "data": {
      "text/plain": [
       "RandomForestClassifier(bootstrap=True, class_weight=None, criterion='gini',\n",
       "            max_depth=None, max_features='auto', max_leaf_nodes=None,\n",
       "            min_impurity_decrease=0.0, min_impurity_split=None,\n",
       "            min_samples_leaf=1, min_samples_split=2,\n",
       "            min_weight_fraction_leaf=0.0, n_estimators=10, n_jobs=1,\n",
       "            oob_score=False, random_state=None, verbose=0,\n",
       "            warm_start=False)"
      ]
     },
     "execution_count": 175,
     "metadata": {},
     "output_type": "execute_result"
    }
   ],
   "source": [
    "# use the RandomForestClassifier classifier\n",
    "clf = RandomForestClassifier()\n",
    "clf.fit(X_train, y_train)"
   ]
  },
  {
   "cell_type": "code",
   "execution_count": 176,
   "metadata": {},
   "outputs": [
    {
     "data": {
      "text/plain": [
       "LinearSVC(C=1.0, class_weight=None, dual=True, fit_intercept=True,\n",
       "     intercept_scaling=1, loss='squared_hinge', max_iter=1000,\n",
       "     multi_class='ovr', penalty='l2', random_state=None, tol=0.0001,\n",
       "     verbose=0)"
      ]
     },
     "execution_count": 176,
     "metadata": {},
     "output_type": "execute_result"
    }
   ],
   "source": [
    "# use the SVM classifier\n",
    "\n",
    "\n",
    "svm_classifier = LinearSVC()\n",
    "svm_classifier.fit(X_train, y_train)"
   ]
  },
  {
   "cell_type": "code",
   "execution_count": 177,
   "metadata": {},
   "outputs": [],
   "source": [
    "pred = svm_classifier.predict(X_test)\n",
    "pred_clf = clf.predict(X_test)"
   ]
  },
  {
   "cell_type": "code",
   "execution_count": 180,
   "metadata": {},
   "outputs": [
    {
     "name": "stdout",
     "output_type": "stream",
     "text": [
      "condider all the stars rating\n",
      "\n",
      "Accuracy: SVM Classifier\n"
     ]
    },
    {
     "data": {
      "text/plain": [
       "0.5046728971962616"
      ]
     },
     "metadata": {},
     "output_type": "display_data"
    },
    {
     "name": "stdout",
     "output_type": "stream",
     "text": [
      "confusion_matrix: SVM Classifier\n"
     ]
    },
    {
     "data": {
      "text/html": [
       "<div>\n",
       "<style scoped>\n",
       "    .dataframe tbody tr th:only-of-type {\n",
       "        vertical-align: middle;\n",
       "    }\n",
       "\n",
       "    .dataframe tbody tr th {\n",
       "        vertical-align: top;\n",
       "    }\n",
       "\n",
       "    .dataframe thead th {\n",
       "        text-align: right;\n",
       "    }\n",
       "</style>\n",
       "<table border=\"1\" class=\"dataframe\">\n",
       "  <thead>\n",
       "    <tr style=\"text-align: right;\">\n",
       "      <th></th>\n",
       "      <th>1</th>\n",
       "      <th>2</th>\n",
       "      <th>3</th>\n",
       "      <th>4</th>\n",
       "      <th>5</th>\n",
       "    </tr>\n",
       "  </thead>\n",
       "  <tbody>\n",
       "    <tr>\n",
       "      <th>1</th>\n",
       "      <td>114</td>\n",
       "      <td>21</td>\n",
       "      <td>6</td>\n",
       "      <td>2</td>\n",
       "      <td>7</td>\n",
       "    </tr>\n",
       "    <tr>\n",
       "      <th>2</th>\n",
       "      <td>63</td>\n",
       "      <td>46</td>\n",
       "      <td>32</td>\n",
       "      <td>7</td>\n",
       "      <td>8</td>\n",
       "    </tr>\n",
       "    <tr>\n",
       "      <th>3</th>\n",
       "      <td>21</td>\n",
       "      <td>26</td>\n",
       "      <td>57</td>\n",
       "      <td>30</td>\n",
       "      <td>18</td>\n",
       "    </tr>\n",
       "    <tr>\n",
       "      <th>4</th>\n",
       "      <td>10</td>\n",
       "      <td>2</td>\n",
       "      <td>28</td>\n",
       "      <td>61</td>\n",
       "      <td>43</td>\n",
       "    </tr>\n",
       "    <tr>\n",
       "      <th>5</th>\n",
       "      <td>8</td>\n",
       "      <td>6</td>\n",
       "      <td>4</td>\n",
       "      <td>29</td>\n",
       "      <td>100</td>\n",
       "    </tr>\n",
       "  </tbody>\n",
       "</table>\n",
       "</div>"
      ],
      "text/plain": [
       "     1   2   3   4    5\n",
       "1  114  21   6   2    7\n",
       "2   63  46  32   7    8\n",
       "3   21  26  57  30   18\n",
       "4   10   2  28  61   43\n",
       "5    8   6   4  29  100"
      ]
     },
     "execution_count": 180,
     "metadata": {},
     "output_type": "execute_result"
    }
   ],
   "source": [
    "print(\"condider all the stars rating\")\n",
    "\n",
    "print(\"\")\n",
    "\n",
    "\n",
    "print(\"Accuracy: SVM Classifier\")\n",
    "display(accuracy_score(y_test, pred))\n",
    "\n",
    "\n",
    "labels = np.unique(y_test)\n",
    "matrix =confusion_matrix(y_test, pred, labels=labels)\n",
    "\n",
    "print(\"confusion_matrix: SVM Classifier\")\n",
    "\n",
    "\n",
    "pd.DataFrame(matrix, index=labels, columns=labels)"
   ]
  },
  {
   "cell_type": "code",
   "execution_count": 160,
   "metadata": {},
   "outputs": [
    {
     "name": "stdout",
     "output_type": "stream",
     "text": [
      "Accuracy: Random Forest Classifier\n"
     ]
    },
    {
     "data": {
      "text/plain": [
       "0.32309746328437916"
      ]
     },
     "metadata": {},
     "output_type": "display_data"
    },
    {
     "name": "stdout",
     "output_type": "stream",
     "text": [
      "confusion_matrix: Random Forest Classifier\n"
     ]
    },
    {
     "data": {
      "text/html": [
       "<div>\n",
       "<style scoped>\n",
       "    .dataframe tbody tr th:only-of-type {\n",
       "        vertical-align: middle;\n",
       "    }\n",
       "\n",
       "    .dataframe tbody tr th {\n",
       "        vertical-align: top;\n",
       "    }\n",
       "\n",
       "    .dataframe thead th {\n",
       "        text-align: right;\n",
       "    }\n",
       "</style>\n",
       "<table border=\"1\" class=\"dataframe\">\n",
       "  <thead>\n",
       "    <tr style=\"text-align: right;\">\n",
       "      <th></th>\n",
       "      <th>1</th>\n",
       "      <th>2</th>\n",
       "      <th>3</th>\n",
       "      <th>4</th>\n",
       "      <th>5</th>\n",
       "    </tr>\n",
       "  </thead>\n",
       "  <tbody>\n",
       "    <tr>\n",
       "      <th>1</th>\n",
       "      <td>81</td>\n",
       "      <td>25</td>\n",
       "      <td>18</td>\n",
       "      <td>7</td>\n",
       "      <td>19</td>\n",
       "    </tr>\n",
       "    <tr>\n",
       "      <th>2</th>\n",
       "      <td>52</td>\n",
       "      <td>28</td>\n",
       "      <td>40</td>\n",
       "      <td>20</td>\n",
       "      <td>16</td>\n",
       "    </tr>\n",
       "    <tr>\n",
       "      <th>3</th>\n",
       "      <td>31</td>\n",
       "      <td>25</td>\n",
       "      <td>45</td>\n",
       "      <td>24</td>\n",
       "      <td>27</td>\n",
       "    </tr>\n",
       "    <tr>\n",
       "      <th>4</th>\n",
       "      <td>28</td>\n",
       "      <td>18</td>\n",
       "      <td>24</td>\n",
       "      <td>24</td>\n",
       "      <td>50</td>\n",
       "    </tr>\n",
       "    <tr>\n",
       "      <th>5</th>\n",
       "      <td>21</td>\n",
       "      <td>14</td>\n",
       "      <td>19</td>\n",
       "      <td>29</td>\n",
       "      <td>64</td>\n",
       "    </tr>\n",
       "  </tbody>\n",
       "</table>\n",
       "</div>"
      ],
      "text/plain": [
       "    1   2   3   4   5\n",
       "1  81  25  18   7  19\n",
       "2  52  28  40  20  16\n",
       "3  31  25  45  24  27\n",
       "4  28  18  24  24  50\n",
       "5  21  14  19  29  64"
      ]
     },
     "execution_count": 160,
     "metadata": {},
     "output_type": "execute_result"
    }
   ],
   "source": [
    "print(\"Accuracy: Random Forest Classifier\")\n",
    "display(accuracy_score(y_test, pred_clf))\n",
    "\n",
    "\n",
    "labels = np.unique(y_test)\n",
    "matrix =confusion_matrix(y_test, pred_clf, labels=labels)\n",
    "\n",
    "print(\"confusion_matrix: Random Forest Classifier\")\n",
    "\n",
    "\n",
    "pd.DataFrame(matrix, index=labels, columns=labels)"
   ]
  },
  {
   "cell_type": "code",
   "execution_count": null,
   "metadata": {},
   "outputs": [],
   "source": []
  },
  {
   "cell_type": "code",
   "execution_count": null,
   "metadata": {},
   "outputs": [],
   "source": [
    "\n"
   ]
  },
  {
   "cell_type": "code",
   "execution_count": 161,
   "metadata": {},
   "outputs": [],
   "source": [
    "# now we will preform multiple approaches to train the model on to see which approach gives better performance\n",
    "\n",
    "# 1. consider star rating 1 & 2 as neigative and 4 & 5 as positive  and 3 as neutral \n",
    "# 2. consider star rating 1 & 2 as neigative and 3 &4 & 5 as positive \n",
    "# 3. consider star rating 1 & 2 & 3 as neigative and 4 & 5 as positive\n",
    "# 4. consider star rating 1 & 2 as neigative and 4 & 5 as positive  and get rid of rating star 3"
   ]
  },
  {
   "cell_type": "code",
   "execution_count": 162,
   "metadata": {},
   "outputs": [],
   "source": [
    "keep_rating = set([1,2,3,4,5])\n",
    "\n",
    "keep_rating_train = [i for i, y in enumerate(y_train) if y in keep_rating]\n",
    "keep_rating_test = [i for i, y in enumerate(y_test) if y in keep_rating]\n",
    "\n",
    "\n"
   ]
  },
  {
   "cell_type": "code",
   "execution_count": 172,
   "metadata": {},
   "outputs": [
    {
     "name": "stdout",
     "output_type": "stream",
     "text": [
      " 1. consider star rating 1 & 2 as neigative and 4 & 5 as positive  and 3 as neutral \n",
      "\n",
      "Accuracy: SVM Classifier\n"
     ]
    },
    {
     "data": {
      "text/plain": [
       "0.8844221105527639"
      ]
     },
     "metadata": {},
     "output_type": "display_data"
    },
    {
     "name": "stdout",
     "output_type": "stream",
     "text": [
      "confusion_matrix: SVM Classifier\n"
     ]
    },
    {
     "data": {
      "text/html": [
       "<div>\n",
       "<style scoped>\n",
       "    .dataframe tbody tr th:only-of-type {\n",
       "        vertical-align: middle;\n",
       "    }\n",
       "\n",
       "    .dataframe tbody tr th {\n",
       "        vertical-align: top;\n",
       "    }\n",
       "\n",
       "    .dataframe thead th {\n",
       "        text-align: right;\n",
       "    }\n",
       "</style>\n",
       "<table border=\"1\" class=\"dataframe\">\n",
       "  <thead>\n",
       "    <tr style=\"text-align: right;\">\n",
       "      <th></th>\n",
       "      <th>n</th>\n",
       "      <th>p</th>\n",
       "    </tr>\n",
       "  </thead>\n",
       "  <tbody>\n",
       "    <tr>\n",
       "      <th>n</th>\n",
       "      <td>271</td>\n",
       "      <td>35</td>\n",
       "    </tr>\n",
       "    <tr>\n",
       "      <th>p</th>\n",
       "      <td>34</td>\n",
       "      <td>257</td>\n",
       "    </tr>\n",
       "  </tbody>\n",
       "</table>\n",
       "</div>"
      ],
      "text/plain": [
       "     n    p\n",
       "n  271   35\n",
       "p   34  257"
      ]
     },
     "execution_count": 172,
     "metadata": {},
     "output_type": "execute_result"
    }
   ],
   "source": [
    "print(\" 1. consider star rating 1 & 2 as neigative and 4 & 5 as positive  and 3 as neutral \")\n",
    "print(\"\")\n",
    "\n",
    "X_train_1 = X_train[keep_rating_train, :]\n",
    "y_train_1 = [y_train[i] for i in keep_rating_train]\n",
    "y_train_1 = [\"n\" if (y == 1 or y == 2) else (\"p\" if (y == 4 or y == 5) else \"non\") for y in y_train_1]\n",
    "\n",
    "X_test_1 = X_test[keep_rating_test, :]\n",
    "y_test_1 = [y_test[i] for i in keep_rating_test]\n",
    "y_test_1 = [\"n\" if (y == 1 or y == 2) else (\"p\" if (y == 4 or y == 5) else \"non\") for y in y_test_1]\n",
    "\n",
    "svm_classifier.fit(X_train_1, y_train_1)\n",
    "pred = svm_classifier.predict(X_test_1)\n",
    "\n",
    "print(\"Accuracy: SVM Classifier\")\n",
    "display(accuracy_score(y_test_1, pred))\n",
    "\n",
    "\n",
    "labels = np.unique(y_test_1)\n",
    "matrix =confusion_matrix(y_test_1, pred, labels=labels)\n",
    "\n",
    "print(\"confusion_matrix: SVM Classifier\")\n",
    "\n",
    "\n",
    "pd.DataFrame(matrix, index=labels, columns=labels)\n",
    "\n",
    "\n",
    "\n",
    "\n",
    "\n",
    "\n"
   ]
  },
  {
   "cell_type": "code",
   "execution_count": 164,
   "metadata": {},
   "outputs": [
    {
     "name": "stdout",
     "output_type": "stream",
     "text": [
      "Accuracy: Random Forest Classifier\n"
     ]
    },
    {
     "data": {
      "text/plain": [
       "0.57543391188251"
      ]
     },
     "metadata": {},
     "output_type": "display_data"
    },
    {
     "name": "stdout",
     "output_type": "stream",
     "text": [
      "confusion_matrix: Random Forest Classifier\n"
     ]
    },
    {
     "data": {
      "text/html": [
       "<div>\n",
       "<style scoped>\n",
       "    .dataframe tbody tr th:only-of-type {\n",
       "        vertical-align: middle;\n",
       "    }\n",
       "\n",
       "    .dataframe tbody tr th {\n",
       "        vertical-align: top;\n",
       "    }\n",
       "\n",
       "    .dataframe thead th {\n",
       "        text-align: right;\n",
       "    }\n",
       "</style>\n",
       "<table border=\"1\" class=\"dataframe\">\n",
       "  <thead>\n",
       "    <tr style=\"text-align: right;\">\n",
       "      <th></th>\n",
       "      <th>n</th>\n",
       "      <th>non</th>\n",
       "      <th>p</th>\n",
       "    </tr>\n",
       "  </thead>\n",
       "  <tbody>\n",
       "    <tr>\n",
       "      <th>n</th>\n",
       "      <td>221</td>\n",
       "      <td>4</td>\n",
       "      <td>81</td>\n",
       "    </tr>\n",
       "    <tr>\n",
       "      <th>non</th>\n",
       "      <td>74</td>\n",
       "      <td>8</td>\n",
       "      <td>70</td>\n",
       "    </tr>\n",
       "    <tr>\n",
       "      <th>p</th>\n",
       "      <td>82</td>\n",
       "      <td>7</td>\n",
       "      <td>202</td>\n",
       "    </tr>\n",
       "  </tbody>\n",
       "</table>\n",
       "</div>"
      ],
      "text/plain": [
       "       n  non    p\n",
       "n    221    4   81\n",
       "non   74    8   70\n",
       "p     82    7  202"
      ]
     },
     "execution_count": 164,
     "metadata": {},
     "output_type": "execute_result"
    }
   ],
   "source": [
    "#clf = RandomForestClassifier()\n",
    "clf.fit(X_train_1, y_train_1)\n",
    "\n",
    "\n",
    "pred_clf = clf.predict(X_test_1)\n",
    "print(\"Accuracy: Random Forest Classifier\")\n",
    "display(accuracy_score(y_test_1, pred_clf))\n",
    "\n",
    "\n",
    "labels = np.unique(y_test_1)\n",
    "matrix =confusion_matrix(y_test_1, pred_clf, labels=labels)\n",
    "\n",
    "print(\"confusion_matrix: Random Forest Classifier\")\n",
    "\n",
    "\n",
    "pd.DataFrame(matrix, index=labels, columns=labels)"
   ]
  },
  {
   "cell_type": "code",
   "execution_count": null,
   "metadata": {},
   "outputs": [],
   "source": []
  },
  {
   "cell_type": "code",
   "execution_count": null,
   "metadata": {},
   "outputs": [],
   "source": []
  },
  {
   "cell_type": "code",
   "execution_count": null,
   "metadata": {},
   "outputs": [],
   "source": [
    "\n"
   ]
  },
  {
   "cell_type": "code",
   "execution_count": 165,
   "metadata": {},
   "outputs": [
    {
     "name": "stdout",
     "output_type": "stream",
     "text": [
      "Accuracy: SVM Classifier\n"
     ]
    },
    {
     "data": {
      "text/plain": [
       "0.8304405874499332"
      ]
     },
     "metadata": {},
     "output_type": "display_data"
    },
    {
     "name": "stdout",
     "output_type": "stream",
     "text": [
      "confusion_matrix: SVM Classifier\n"
     ]
    },
    {
     "data": {
      "text/html": [
       "<div>\n",
       "<style scoped>\n",
       "    .dataframe tbody tr th:only-of-type {\n",
       "        vertical-align: middle;\n",
       "    }\n",
       "\n",
       "    .dataframe tbody tr th {\n",
       "        vertical-align: top;\n",
       "    }\n",
       "\n",
       "    .dataframe thead th {\n",
       "        text-align: right;\n",
       "    }\n",
       "</style>\n",
       "<table border=\"1\" class=\"dataframe\">\n",
       "  <thead>\n",
       "    <tr style=\"text-align: right;\">\n",
       "      <th></th>\n",
       "      <th>n</th>\n",
       "      <th>p</th>\n",
       "    </tr>\n",
       "  </thead>\n",
       "  <tbody>\n",
       "    <tr>\n",
       "      <th>n</th>\n",
       "      <td>209</td>\n",
       "      <td>97</td>\n",
       "    </tr>\n",
       "    <tr>\n",
       "      <th>p</th>\n",
       "      <td>30</td>\n",
       "      <td>413</td>\n",
       "    </tr>\n",
       "  </tbody>\n",
       "</table>\n",
       "</div>"
      ],
      "text/plain": [
       "     n    p\n",
       "n  209   97\n",
       "p   30  413"
      ]
     },
     "execution_count": 165,
     "metadata": {},
     "output_type": "execute_result"
    }
   ],
   "source": [
    "print(\"  2. consider star rating 1 & 2 as neigative and 3 &4 & 5 as positive \")\n",
    "print(\"\")\n",
    "\n",
    "\n",
    "#X_train_1 = X_train[keep_rating_train, :]\n",
    "y_train_1 = [y_train[i] for i in keep_rating_train]\n",
    "y_train_1 = [\"n\" if (y == 1 or y == 2) else \"p\" for y in y_train_1]\n",
    "\n",
    "X_test_1 = X_test[keep_rating_test, :]\n",
    "y_test_1 = [y_test[i] for i in keep_rating_test]\n",
    "y_test_1 = [\"n\" if (y == 1 or y == 2) else \"p\" for y in y_test_1]\n",
    "\n",
    "svm_classifier.fit(X_train_1, y_train_1)\n",
    "pred = svm_classifier.predict(X_test_1)\n",
    "\n",
    "print(\"Accuracy: SVM Classifier\")\n",
    "display(accuracy_score(y_test_1, pred))\n",
    "\n",
    "\n",
    "labels = np.unique(y_test_1)\n",
    "matrix =confusion_matrix(y_test_1, pred, labels=labels)\n",
    "\n",
    "print(\"confusion_matrix: SVM Classifier\")\n",
    "\n",
    "\n",
    "pd.DataFrame(matrix, index=labels, columns=labels)"
   ]
  },
  {
   "cell_type": "code",
   "execution_count": 166,
   "metadata": {},
   "outputs": [
    {
     "name": "stdout",
     "output_type": "stream",
     "text": [
      "Accuracy: Random Forest Classifier\n"
     ]
    },
    {
     "data": {
      "text/plain": [
       "0.6915887850467289"
      ]
     },
     "metadata": {},
     "output_type": "display_data"
    },
    {
     "name": "stdout",
     "output_type": "stream",
     "text": [
      "confusion_matrix: Random Forest Classifier\n"
     ]
    },
    {
     "data": {
      "text/html": [
       "<div>\n",
       "<style scoped>\n",
       "    .dataframe tbody tr th:only-of-type {\n",
       "        vertical-align: middle;\n",
       "    }\n",
       "\n",
       "    .dataframe tbody tr th {\n",
       "        vertical-align: top;\n",
       "    }\n",
       "\n",
       "    .dataframe thead th {\n",
       "        text-align: right;\n",
       "    }\n",
       "</style>\n",
       "<table border=\"1\" class=\"dataframe\">\n",
       "  <thead>\n",
       "    <tr style=\"text-align: right;\">\n",
       "      <th></th>\n",
       "      <th>n</th>\n",
       "      <th>p</th>\n",
       "    </tr>\n",
       "  </thead>\n",
       "  <tbody>\n",
       "    <tr>\n",
       "      <th>n</th>\n",
       "      <td>138</td>\n",
       "      <td>168</td>\n",
       "    </tr>\n",
       "    <tr>\n",
       "      <th>p</th>\n",
       "      <td>63</td>\n",
       "      <td>380</td>\n",
       "    </tr>\n",
       "  </tbody>\n",
       "</table>\n",
       "</div>"
      ],
      "text/plain": [
       "     n    p\n",
       "n  138  168\n",
       "p   63  380"
      ]
     },
     "execution_count": 166,
     "metadata": {},
     "output_type": "execute_result"
    }
   ],
   "source": [
    "clf.fit(X_train_1, y_train_1)\n",
    "\n",
    "\n",
    "pred_clf = clf.predict(X_test_1)\n",
    "print(\"Accuracy: Random Forest Classifier\")\n",
    "display(accuracy_score(y_test_1, pred_clf))\n",
    "\n",
    "\n",
    "labels = np.unique(y_test_1)\n",
    "matrix =confusion_matrix(y_test_1, pred_clf, labels=labels)\n",
    "\n",
    "print(\"confusion_matrix: Random Forest Classifier\")\n",
    "\n",
    "\n",
    "pd.DataFrame(matrix, index=labels, columns=labels)"
   ]
  },
  {
   "cell_type": "code",
   "execution_count": 167,
   "metadata": {},
   "outputs": [
    {
     "name": "stdout",
     "output_type": "stream",
     "text": [
      "Accuracy: SVM Classifier\n"
     ]
    },
    {
     "data": {
      "text/plain": [
       "0.8437917222963952"
      ]
     },
     "metadata": {},
     "output_type": "display_data"
    },
    {
     "name": "stdout",
     "output_type": "stream",
     "text": [
      "confusion_matrix: SVM Classifier\n"
     ]
    },
    {
     "data": {
      "text/html": [
       "<div>\n",
       "<style scoped>\n",
       "    .dataframe tbody tr th:only-of-type {\n",
       "        vertical-align: middle;\n",
       "    }\n",
       "\n",
       "    .dataframe tbody tr th {\n",
       "        vertical-align: top;\n",
       "    }\n",
       "\n",
       "    .dataframe thead th {\n",
       "        text-align: right;\n",
       "    }\n",
       "</style>\n",
       "<table border=\"1\" class=\"dataframe\">\n",
       "  <thead>\n",
       "    <tr style=\"text-align: right;\">\n",
       "      <th></th>\n",
       "      <th>n</th>\n",
       "      <th>p</th>\n",
       "    </tr>\n",
       "  </thead>\n",
       "  <tbody>\n",
       "    <tr>\n",
       "      <th>n</th>\n",
       "      <td>439</td>\n",
       "      <td>19</td>\n",
       "    </tr>\n",
       "    <tr>\n",
       "      <th>p</th>\n",
       "      <td>98</td>\n",
       "      <td>193</td>\n",
       "    </tr>\n",
       "  </tbody>\n",
       "</table>\n",
       "</div>"
      ],
      "text/plain": [
       "     n    p\n",
       "n  439   19\n",
       "p   98  193"
      ]
     },
     "execution_count": 167,
     "metadata": {},
     "output_type": "execute_result"
    }
   ],
   "source": [
    "print(\"  3. consider star rating 1 & 2 & 3 as neigative and 4 & 5 as positive\")\n",
    "print(\"\")\n",
    "\n",
    "\n",
    "\n",
    "#X_train_1 = X_train[keep_rating_train, :]\n",
    "y_train_1 = [y_train[i] for i in keep_rating_train]\n",
    "y_train_1 = [\"n\" if (y == 1 or y == 2 or y == 3) else \"p\" for y in y_train_1]\n",
    "\n",
    "X_test_1 = X_test[keep_rating_test, :]\n",
    "y_test_1 = [y_test[i] for i in keep_rating_test]\n",
    "y_test_1 = [\"n\" if (y == 1 or y == 2 or y == 3) else \"p\" for y in y_test_1]\n",
    "\n",
    "svm_classifier.fit(X_train_1, y_train_1)\n",
    "pred = svm_classifier.predict(X_test_1)\n",
    "\n",
    "print(\"Accuracy: SVM Classifier\")\n",
    "display(accuracy_score(y_test_1, pred))\n",
    "\n",
    "\n",
    "labels = np.unique(y_test_1)\n",
    "matrix =confusion_matrix(y_test_1, pred, labels=labels)\n",
    "\n",
    "print(\"confusion_matrix: SVM Classifier\")\n",
    "\n",
    "\n",
    "pd.DataFrame(matrix, index=labels, columns=labels)"
   ]
  },
  {
   "cell_type": "code",
   "execution_count": 168,
   "metadata": {},
   "outputs": [
    {
     "name": "stdout",
     "output_type": "stream",
     "text": [
      "Accuracy: Random Forest Classifier\n"
     ]
    },
    {
     "data": {
      "text/plain": [
       "0.6929238985313751"
      ]
     },
     "metadata": {},
     "output_type": "display_data"
    },
    {
     "name": "stdout",
     "output_type": "stream",
     "text": [
      "confusion_matrix: Random Forest Classifier\n"
     ]
    },
    {
     "data": {
      "text/html": [
       "<div>\n",
       "<style scoped>\n",
       "    .dataframe tbody tr th:only-of-type {\n",
       "        vertical-align: middle;\n",
       "    }\n",
       "\n",
       "    .dataframe tbody tr th {\n",
       "        vertical-align: top;\n",
       "    }\n",
       "\n",
       "    .dataframe thead th {\n",
       "        text-align: right;\n",
       "    }\n",
       "</style>\n",
       "<table border=\"1\" class=\"dataframe\">\n",
       "  <thead>\n",
       "    <tr style=\"text-align: right;\">\n",
       "      <th></th>\n",
       "      <th>n</th>\n",
       "      <th>p</th>\n",
       "    </tr>\n",
       "  </thead>\n",
       "  <tbody>\n",
       "    <tr>\n",
       "      <th>n</th>\n",
       "      <td>426</td>\n",
       "      <td>32</td>\n",
       "    </tr>\n",
       "    <tr>\n",
       "      <th>p</th>\n",
       "      <td>198</td>\n",
       "      <td>93</td>\n",
       "    </tr>\n",
       "  </tbody>\n",
       "</table>\n",
       "</div>"
      ],
      "text/plain": [
       "     n   p\n",
       "n  426  32\n",
       "p  198  93"
      ]
     },
     "execution_count": 168,
     "metadata": {},
     "output_type": "execute_result"
    }
   ],
   "source": [
    "clf.fit(X_train_1, y_train_1)\n",
    "\n",
    "\n",
    "pred_clf = clf.predict(X_test_1)\n",
    "print(\"Accuracy: Random Forest Classifier\")\n",
    "display(accuracy_score(y_test_1, pred_clf))\n",
    "\n",
    "\n",
    "labels = np.unique(y_test_1)\n",
    "matrix =confusion_matrix(y_test_1, pred_clf, labels=labels)\n",
    "\n",
    "print(\"confusion_matrix: Random Forest Classifier\")\n",
    "\n",
    "\n",
    "pd.DataFrame(matrix, index=labels, columns=labels)"
   ]
  },
  {
   "cell_type": "code",
   "execution_count": 169,
   "metadata": {},
   "outputs": [
    {
     "name": "stdout",
     "output_type": "stream",
     "text": [
      "Accuracy: SVM Classifier\n"
     ]
    },
    {
     "data": {
      "text/plain": [
       "0.8844221105527639"
      ]
     },
     "metadata": {},
     "output_type": "display_data"
    },
    {
     "name": "stdout",
     "output_type": "stream",
     "text": [
      "confusion_matrix: SVM Classifier\n"
     ]
    },
    {
     "data": {
      "text/html": [
       "<div>\n",
       "<style scoped>\n",
       "    .dataframe tbody tr th:only-of-type {\n",
       "        vertical-align: middle;\n",
       "    }\n",
       "\n",
       "    .dataframe tbody tr th {\n",
       "        vertical-align: top;\n",
       "    }\n",
       "\n",
       "    .dataframe thead th {\n",
       "        text-align: right;\n",
       "    }\n",
       "</style>\n",
       "<table border=\"1\" class=\"dataframe\">\n",
       "  <thead>\n",
       "    <tr style=\"text-align: right;\">\n",
       "      <th></th>\n",
       "      <th>n</th>\n",
       "      <th>p</th>\n",
       "    </tr>\n",
       "  </thead>\n",
       "  <tbody>\n",
       "    <tr>\n",
       "      <th>n</th>\n",
       "      <td>271</td>\n",
       "      <td>35</td>\n",
       "    </tr>\n",
       "    <tr>\n",
       "      <th>p</th>\n",
       "      <td>34</td>\n",
       "      <td>257</td>\n",
       "    </tr>\n",
       "  </tbody>\n",
       "</table>\n",
       "</div>"
      ],
      "text/plain": [
       "     n    p\n",
       "n  271   35\n",
       "p   34  257"
      ]
     },
     "execution_count": 169,
     "metadata": {},
     "output_type": "execute_result"
    }
   ],
   "source": [
    "print(\"  4. consider star rating 1 & 2 as neigative and 4 & 5 as positive  and get rid of rating star 3\")\n",
    "print(\"\")\n",
    "keep_rating = set([1,2,4,5])\n",
    "\n",
    "keep_rating_train = [i for i, y in enumerate(y_train) if y in keep_rating]\n",
    "keep_rating_test = [i for i, y in enumerate(y_test) if y in keep_rating]\n",
    "\n",
    "X_train_1 = X_train[keep_rating_train, :]\n",
    "y_train_1 = [y_train[i] for i in keep_rating_train]\n",
    "y_train_1 = [\"n\" if (y == 1 or y == 2) else \"p\" for y in y_train_1]\n",
    "\n",
    "X_test_1 = X_test[keep_rating_test, :]\n",
    "y_test_1 = [y_test[i] for i in keep_rating_test]\n",
    "y_test_1 = [\"n\" if (y == 1 or y == 2) else \"p\" for y in y_test_1]\n",
    "\n",
    "svm_classifier.fit(X_train_1, y_train_1)\n",
    "pred = svm_classifier.predict(X_test_1)\n",
    "\n",
    "print(\"Accuracy: SVM Classifier\")\n",
    "display(accuracy_score(y_test_1, pred))\n",
    "\n",
    "\n",
    "labels = np.unique(y_test_1)\n",
    "matrix =confusion_matrix(y_test_1, pred, labels=labels)\n",
    "\n",
    "print(\"confusion_matrix: SVM Classifier\")\n",
    "\n",
    "\n",
    "pd.DataFrame(matrix, index=labels, columns=labels)"
   ]
  },
  {
   "cell_type": "code",
   "execution_count": 170,
   "metadata": {},
   "outputs": [
    {
     "name": "stdout",
     "output_type": "stream",
     "text": [
      "Accuracy: Random Forest Classifier\n"
     ]
    },
    {
     "data": {
      "text/plain": [
       "0.7386934673366834"
      ]
     },
     "metadata": {},
     "output_type": "display_data"
    },
    {
     "name": "stdout",
     "output_type": "stream",
     "text": [
      "confusion_matrix: Random Forest Classifier\n"
     ]
    },
    {
     "data": {
      "text/html": [
       "<div>\n",
       "<style scoped>\n",
       "    .dataframe tbody tr th:only-of-type {\n",
       "        vertical-align: middle;\n",
       "    }\n",
       "\n",
       "    .dataframe tbody tr th {\n",
       "        vertical-align: top;\n",
       "    }\n",
       "\n",
       "    .dataframe thead th {\n",
       "        text-align: right;\n",
       "    }\n",
       "</style>\n",
       "<table border=\"1\" class=\"dataframe\">\n",
       "  <thead>\n",
       "    <tr style=\"text-align: right;\">\n",
       "      <th></th>\n",
       "      <th>n</th>\n",
       "      <th>p</th>\n",
       "    </tr>\n",
       "  </thead>\n",
       "  <tbody>\n",
       "    <tr>\n",
       "      <th>n</th>\n",
       "      <td>249</td>\n",
       "      <td>57</td>\n",
       "    </tr>\n",
       "    <tr>\n",
       "      <th>p</th>\n",
       "      <td>99</td>\n",
       "      <td>192</td>\n",
       "    </tr>\n",
       "  </tbody>\n",
       "</table>\n",
       "</div>"
      ],
      "text/plain": [
       "     n    p\n",
       "n  249   57\n",
       "p   99  192"
      ]
     },
     "execution_count": 170,
     "metadata": {},
     "output_type": "execute_result"
    }
   ],
   "source": [
    "clf.fit(X_train_1, y_train_1)\n",
    "\n",
    "\n",
    "pred_clf = clf.predict(X_test_1)\n",
    "print(\"Accuracy: Random Forest Classifier\")\n",
    "display(accuracy_score(y_test_1, pred_clf))\n",
    "\n",
    "\n",
    "labels = np.unique(y_test_1)\n",
    "matrix =confusion_matrix(y_test_1, pred_clf, labels=labels)\n",
    "\n",
    "print(\"confusion_matrix: Random Forest Classifier\")\n",
    "\n",
    "\n",
    "pd.DataFrame(matrix, index=labels, columns=labels)"
   ]
  },
  {
   "cell_type": "code",
   "execution_count": null,
   "metadata": {},
   "outputs": [],
   "source": []
  },
  {
   "cell_type": "code",
   "execution_count": null,
   "metadata": {},
   "outputs": [],
   "source": []
  },
  {
   "cell_type": "code",
   "execution_count": null,
   "metadata": {},
   "outputs": [],
   "source": []
  },
  {
   "cell_type": "code",
   "execution_count": null,
   "metadata": {},
   "outputs": [],
   "source": []
  },
  {
   "cell_type": "code",
   "execution_count": null,
   "metadata": {},
   "outputs": [],
   "source": []
  },
  {
   "cell_type": "code",
   "execution_count": null,
   "metadata": {},
   "outputs": [],
   "source": []
  }
 ],
 "metadata": {
  "kernelspec": {
   "display_name": "Python 3",
   "language": "python",
   "name": "python3"
  },
  "language_info": {
   "codemirror_mode": {
    "name": "ipython",
    "version": 3
   },
   "file_extension": ".py",
   "mimetype": "text/x-python",
   "name": "python",
   "nbconvert_exporter": "python",
   "pygments_lexer": "ipython3",
   "version": "3.6.4"
  }
 },
 "nbformat": 4,
 "nbformat_minor": 2
}
